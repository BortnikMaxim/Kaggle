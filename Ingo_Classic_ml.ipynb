{
 "cells": [
  {
   "cell_type": "markdown",
   "metadata": {},
   "source": [
    "# Финальный проект\n",
    "Добро пожаловать, в ноутбук!!!\n",
    "\n",
    "В данном задании вам предстоит построить ML модель на таргете, где присутствует сильный дисбаланс классов.\n",
    "\n",
    "*Обратите внимание на следующие поля:*\n",
    "\n",
    "* `TARGET` - Наш таргет\n",
    "* `OBSDATE` - Дата. Эта поле необходимо для фиксирования финальных метрик обученной модели.\n",
    "\n",
    "Рекомендации по разбиению данных на подвыборки:\n",
    "1. train и val получаем через train_test_split - можете произвольно подбирать test_size, но рекомендуем около 20%\n",
    "2. test, то есть отложенную выборку, выделяем через OBSDATE >= 2023-11-01 - данное условие не подлежит изменению\n",
    "\n",
    "Максимальное количество баллов: 100 (основных) + 20 (дополнительные)\n",
    "\n",
    "final_mark = np.max(your_mark, 100)"
   ]
  },
  {
   "cell_type": "code",
   "execution_count": 27,
   "metadata": {},
   "outputs": [],
   "source": [
    "import pandas as pd\n",
    "import numpy as np\n",
    "import matplotlib.pyplot as plt\n",
    "\n",
    "# Для разделения данных\n",
    "from sklearn.model_selection import train_test_split, StratifiedKFold, RandomizedSearchCV\n",
    "\n",
    "# Для кодирования категориальных признаков (Target Encoding)\n",
    "from category_encoders import CatBoostEncoder\n",
    "\n",
    "# Для балансировки (oversampling)\n",
    "from imblearn.over_sampling import ADASYN\n",
    "\n",
    "# Бустинг (пример: LightGBM)\n",
    "import lightgbm as lgb\n",
    "\n",
    "# Метрики\n",
    "from sklearn.metrics import (\n",
    "    roc_auc_score,\n",
    "    precision_recall_curve,\n",
    "    auc,\n",
    "    confusion_matrix,\n",
    "    classification_report,\n",
    "    RocCurveDisplay,\n",
    "    PrecisionRecallDisplay\n",
    ")\n",
    "\n",
    "# SHAP для важности признаков\n",
    "import shap"
   ]
  },
  {
   "cell_type": "code",
   "execution_count": 28,
   "metadata": {},
   "outputs": [
    {
     "data": {
      "text/plain": [
       "<bound method NDFrame.describe of         TARGET    OBSDATE  col_0  col_1  col_2  col_3  col_4  col_5  col_6  \\\n",
       "464723       0 2023-07-01    NaN    NaN    NaN    NaN    NaN    NaN    NaN   \n",
       "706874       0 2023-02-01    NaN    NaN    NaN    NaN    NaN    NaN    NaN   \n",
       "139927       0 2023-03-01    NaN    NaN    NaN    NaN    NaN    NaN    NaN   \n",
       "267979       0 2023-09-01    NaN    NaN    NaN    NaN    NaN    NaN    NaN   \n",
       "479451       0 2023-05-01    NaN    NaN    NaN    NaN    NaN    NaN    NaN   \n",
       "...        ...        ...    ...    ...    ...    ...    ...    ...    ...   \n",
       "135780       0 2023-09-01    NaN    NaN    NaN    NaN    NaN    NaN    NaN   \n",
       "693921       0 2023-12-01    NaN    NaN    NaN    NaN    NaN    NaN    NaN   \n",
       "171498       0 2023-05-01    NaN    NaN    NaN    NaN    NaN    NaN    NaN   \n",
       "751597       0 2023-12-01    NaN    NaN    NaN    NaN    NaN    NaN    NaN   \n",
       "103628       0 2023-03-01    NaN    NaN    NaN    NaN    NaN    NaN    NaN   \n",
       "\n",
       "        col_7  ...  col_226  col_227  col_228  col_229  col_230   col_231  \\\n",
       "464723    NaN  ...   1499.0      4.0      NaN      0.0      NaN      -1.0   \n",
       "706874    NaN  ...   1591.0      4.0      NaN      0.0      NaN       5.0   \n",
       "139927    NaN  ...      NaN      NaN      NaN      0.0     0.00       NaN   \n",
       "267979    NaN  ...      NaN      NaN      NaN      NaN      NaN       NaN   \n",
       "479451    NaN  ...      NaN      NaN      NaN      0.0      NaN      -1.0   \n",
       "...       ...  ...      ...      ...      ...      ...      ...       ...   \n",
       "135780    NaN  ...   1664.0      4.0      NaN      0.0     2.04       1.0   \n",
       "693921    NaN  ...   1834.0      4.5      NaN      0.0      NaN       NaN   \n",
       "171498    NaN  ...   4497.0      5.0      NaN      0.0      NaN  106547.0   \n",
       "751597    NaN  ...   1998.0      5.0      NaN      0.0      NaN       1.0   \n",
       "103628    NaN  ...      NaN      5.0      NaN      0.0      NaN       NaN   \n",
       "\n",
       "        col_232  col_233  col_234  client_id  \n",
       "464723      NaN      NaN     5.75     386309  \n",
       "706874      NaN      NaN     5.65    2066415  \n",
       "139927      NaN      0.0     5.50    2333418  \n",
       "267979      NaN      NaN     5.75    1054377  \n",
       "479451      NaN      NaN     5.75    2012844  \n",
       "...         ...      ...      ...        ...  \n",
       "135780      NaN      NaN     5.90     133270  \n",
       "693921      NaN      NaN     5.75    1793861  \n",
       "171498      NaN      NaN     5.90    1821283  \n",
       "751597      NaN      NaN     5.90     915641  \n",
       "103628      NaN      NaN     5.90    2414547  \n",
       "\n",
       "[100000 rows x 238 columns]>"
      ]
     },
     "execution_count": 28,
     "metadata": {},
     "output_type": "execute_result"
    }
   ],
   "source": [
    "import pandas as pd\n",
    "df = pd.read_parquet(\"/Users/maximbortnik/Downloads/MIPT_project/MIPT_data_prod.parquet\")\n",
    "df.describe"
   ]
  },
  {
   "cell_type": "markdown",
   "metadata": {},
   "source": [
    "## Preprocessing\n",
    "### Обработка пропущенных значений (10 баллов)\n",
    "### Обработка категориальных признаков (10 балллов)"
   ]
  },
  {
   "cell_type": "markdown",
   "metadata": {},
   "source": [
    "**Проверьте данные на константные фичи и фичи, имеющие большое количество пропущенных значений.**\n",
    "\n",
    "`Если переменная имеет более 80% пропущенных значений, то удалите ее`.\n",
    "\n",
    "**Заполните пропуски отдельным значением для категориальных и числовых признаков.**\n",
    "\n",
    "**`Подсказка`: для распознавания категориальных признаков попробуйте посчитать количество уникальных значений фичи.**"
   ]
  },
  {
   "cell_type": "code",
   "execution_count": 29,
   "metadata": {},
   "outputs": [],
   "source": [
    "pct_threshold = 0.8\n",
    "nan_ratio = df.isna().mean()\n",
    "to_drop_cols = nan_ratio[nan_ratio > pct_threshold].index\n",
    "df.drop(columns=to_drop_cols, inplace=True)\n",
    "\n",
    "# 2.2 Удаляем константные фичи\n",
    "nunique = df.nunique(dropna=False)\n",
    "const_cols = nunique[nunique <= 1].index\n",
    "df.drop(columns=const_cols, inplace=True)"
   ]
  },
  {
   "cell_type": "markdown",
   "metadata": {},
   "source": [
    "## Разделите данные на train, val и test (5 баллов)\n",
    "\n",
    "1. train для обучения\n",
    "\n",
    "2. val для промежуточной оценки метрик\n",
    "\n",
    "3. test - отложенная выборка для финальной оценки метрик\n",
    "\n",
    "Для test строго используйте условие `OBSDATE >= \"2023-11-01\"`"
   ]
  },
  {
   "cell_type": "code",
   "execution_count": 30,
   "metadata": {},
   "outputs": [],
   "source": [
    "test_mask = df['OBSDATE'] >= \"2023-11-01\"\n",
    "df_test = df[test_mask].copy()\n",
    "df_rest = df[~test_mask].copy()\n",
    "\n",
    "# Делим df_rest на train и val\n",
    "X_rest = df_rest.drop(columns=['TARGET', 'OBSDATE'])\n",
    "y_rest = df_rest['TARGET']\n",
    "\n",
    "X_train, X_val, y_train, y_val = train_test_split(\n",
    "    X_rest,\n",
    "    y_rest,\n",
    "    test_size=0.2,\n",
    "    stratify=y_rest,\n",
    "    random_state=42\n",
    ")\n",
    "\n",
    "X_test = df_test.drop(columns=['TARGET', 'OBSDATE'])\n",
    "y_test = df_test['TARGET']"
   ]
  },
  {
   "cell_type": "code",
   "execution_count": 31,
   "metadata": {},
   "outputs": [],
   "source": [
    "def define_cat_num_columns(df_train, threshold_cat=20):\n",
    "    \"\"\"Определяем, какие колонки будем считать категориальными/числовыми\"\"\"\n",
    "    cat_cols_ = []\n",
    "    num_cols_ = []\n",
    "    for col in df_train.columns:\n",
    "        # Если мало уникальных значений ИЛИ dtype=object -> cat\n",
    "        # Исключаем possible target, etc.\n",
    "        if df_train[col].dtype == 'object' or df_train[col].nunique() < threshold_cat:\n",
    "            cat_cols_.append(col)\n",
    "        else:\n",
    "            num_cols_.append(col)\n",
    "    return cat_cols_, num_cols_\n",
    "\n",
    "cat_cols, num_cols = define_cat_num_columns(X_train)\n"
   ]
  },
  {
   "cell_type": "code",
   "execution_count": 32,
   "metadata": {},
   "outputs": [],
   "source": [
    "# 4.2 Заполнение пропусков\n",
    "#     - Числовые: учим медians или -999 ТОЛЬКО на train, применяем к val/test\n",
    "#     - Категориальные: учим fill_value \"MISSING\"\n",
    "\n",
    "# Сделаем словари подстановок\n",
    "num_medians = {}\n",
    "for col in num_cols:\n",
    "    # Считаем медиану на train\n",
    "    median_val = X_train[col].median()\n",
    "    num_medians[col] = median_val\n",
    "\n",
    "# Для категориальных - \"MISSING\"\n",
    "cat_fill_value = \"MISSING\"\n",
    "\n",
    "# Функция для apply\n",
    "def fill_missing_values(df_, cat_cols_, num_cols_, num_medians_dict, cat_value=\"MISSING\"):\n",
    "    df_filled = df_.copy()\n",
    "    for c in num_cols_:\n",
    "        df_filled[c] = df_filled[c].fillna(num_medians_dict[c])\n",
    "    for c in cat_cols_:\n",
    "        df_filled[c] = df_filled[c].fillna(cat_value)\n",
    "    return df_filled\n",
    "\n",
    "# Применяем\n",
    "X_train_filled = fill_missing_values(X_train, cat_cols, num_cols, num_medians)\n",
    "X_val_filled   = fill_missing_values(X_val, cat_cols, num_cols, num_medians)\n",
    "X_test_filled  = fill_missing_values(X_test, cat_cols, num_cols, num_medians)"
   ]
  },
  {
   "cell_type": "markdown",
   "metadata": {},
   "source": [
    "**Закодируйте категориальные признаки через target encoding**\n",
    "\n",
    "`Рекомендуем к использованию библиотеку category_encoders, а в ней класс cat_boost.CatBoostEncoder()`"
   ]
  },
  {
   "cell_type": "code",
   "execution_count": 33,
   "metadata": {},
   "outputs": [],
   "source": [
    "#fit только на train, transform на val, test\n",
    "encoder = CatBoostEncoder(cols=cat_cols, random_state=42)\n",
    "encoder.fit(X_train_filled, y_train)\n",
    "\n",
    "X_train_enc = encoder.transform(X_train_filled)\n",
    "X_val_enc   = encoder.transform(X_val_filled)\n",
    "X_test_enc  = encoder.transform(X_test_filled)\n"
   ]
  },
  {
   "cell_type": "markdown",
   "metadata": {},
   "source": [
    "## Feature selection (15 баллов)\n",
    "Отберите признаки для обучения модели.\n",
    "\n",
    "Попробуйте отбирать разное количество N лучших признаков. \n",
    "Для отбора N лучших признаков можно попробовать несколько подходов: однофакторный анализ, мультиколлинеартность признаков, permutation importance и т.д.\n",
    "Будет интересно найти оптимальное количество фичей (построить зависимость метрики качества от количества фичей), чтобы не использовать лишние фичи при обучении.\n",
    "\n",
    "Подумайте:\n",
    "Cтоит ли использовать для обучения признак, который слишком хорошо предсказывает TARGET?"
   ]
  },
  {
   "cell_type": "markdown",
   "metadata": {},
   "source": [
    "**Анализ корреляций, feature selection**"
   ]
  },
  {
   "cell_type": "code",
   "execution_count": null,
   "metadata": {},
   "outputs": [
    {
     "name": "stdout",
     "output_type": "stream",
     "text": [
      "Слишком высокая корр с TARGET (>0.7): ['col_234']\n"
     ]
    }
   ],
   "source": [
    "# Смотрим корреляцию с TARGET (только для числовых фич), но теперь у нас в train_enc всё числовое (после target encoding), поэтому мы можем посмотреть corr c y_train\n",
    "train_enc_with_y = X_train_enc.copy()\n",
    "train_enc_with_y['TARGET'] = y_train.values\n",
    "\n",
    "corrs = train_enc_with_y.corr()['TARGET'].drop('TARGET')\n",
    "# Порог корреляции для удаления = 0,7\n",
    "too_correlated = corrs[abs(corrs) > 0.7].index\n",
    "print(\"Слишком высокая корр с TARGET (>0.7):\", list(too_correlated))"
   ]
  },
  {
   "cell_type": "code",
   "execution_count": 35,
   "metadata": {},
   "outputs": [],
   "source": [
    "# Удалим эту фичу из train_enc/val_enc/test_enc\n",
    "X_train_enc.drop(columns=too_correlated, inplace=True, errors='ignore')\n",
    "X_val_enc.drop(columns=too_correlated, inplace=True, errors='ignore')\n",
    "X_test_enc.drop(columns=too_correlated, inplace=True, errors='ignore')"
   ]
  },
  {
   "cell_type": "code",
   "execution_count": 36,
   "metadata": {},
   "outputs": [
    {
     "name": "stdout",
     "output_type": "stream",
     "text": [
      "[LightGBM] [Info] Number of positive: 985, number of negative: 51118\n",
      "[LightGBM] [Info] Auto-choosing row-wise multi-threading, the overhead of testing was 0.019497 seconds.\n",
      "You can set `force_row_wise=true` to remove the overhead.\n",
      "And if memory is not enough, you can set `force_col_wise=true`.\n",
      "[LightGBM] [Info] Total Bins 18385\n",
      "[LightGBM] [Info] Number of data points in the train set: 52103, number of used features: 184\n",
      "[LightGBM] [Info] [binary:BoostFromScore]: pavg=0.018905 -> initscore=-3.949250\n",
      "[LightGBM] [Info] Start training from score -3.949250\n"
     ]
    }
   ],
   "source": [
    "#LightGBM\n",
    "temp_model = lgb.LGBMClassifier(random_state=42, n_estimators=50)\n",
    "temp_model.fit(X_train_enc, y_train)\n",
    "\n",
    "feat_imp_df = pd.DataFrame({\n",
    "    'feature': X_train_enc.columns,\n",
    "    'importance': temp_model.feature_importances_\n",
    "}).sort_values('importance', ascending=False)\n",
    "\n",
    "TOP_N = 30 if feat_imp_df.shape[0] > 30 else feat_imp_df.shape[0]\n",
    "selected_features = feat_imp_df['feature'].head(TOP_N).tolist()\n",
    "\n",
    "X_train_sel = X_train_enc[selected_features]\n",
    "X_val_sel   = X_val_enc[selected_features]\n",
    "X_test_sel  = X_test_enc[selected_features]"
   ]
  },
  {
   "cell_type": "markdown",
   "metadata": {},
   "source": [
    "## Сэмплирование (20 баллов)\n",
    "\n",
    "Примените к обучающей подвыборке оверсэмплинг (метод решения проблемы дисбаланса классов)\n",
    "\n",
    "Рекомендуем воспользоваться `ADASYN` из imblearn.over_sampling, можете использовать другие методы на ваше усмотрение"
   ]
  },
  {
   "cell_type": "code",
   "execution_count": 37,
   "metadata": {},
   "outputs": [],
   "source": [
    "adasyn = ADASYN(random_state=42)\n",
    "X_train_sel_over, y_train_over = adasyn.fit_resample(X_train_sel, y_train)\n"
   ]
  },
  {
   "cell_type": "markdown",
   "metadata": {},
   "source": [
    "## Построение финальной модели, подсчет метрик и подбор гиперпараметров (15 + 10 баллов)\n",
    "\n",
    "**Постройте бустинг (CatBoost, XGBoost, LightGBM) (10 баллов)**\n",
    "\n",
    "**Оцените качество модели на (train, val, test) (5 баллов)**\n",
    "\n",
    "**Подберите 4 гиперпараметра, используйте кросс-валидацию [Задание на доп баллы] (10 баллов)**"
   ]
  },
  {
   "cell_type": "code",
   "execution_count": 38,
   "metadata": {},
   "outputs": [
    {
     "name": "stdout",
     "output_type": "stream",
     "text": [
      "[LightGBM] [Info] Number of positive: 50959, number of negative: 51118\n",
      "[LightGBM] [Info] Auto-choosing row-wise multi-threading, the overhead of testing was 0.001619 seconds.\n",
      "You can set `force_row_wise=true` to remove the overhead.\n",
      "And if memory is not enough, you can set `force_col_wise=true`.\n",
      "[LightGBM] [Info] Total Bins 7617\n",
      "[LightGBM] [Info] Number of data points in the train set: 102077, number of used features: 30\n",
      "[LightGBM] [Info] [binary:BoostFromScore]: pavg=0.499221 -> initscore=-0.003115\n",
      "[LightGBM] [Info] Start training from score -0.003115\n"
     ]
    }
   ],
   "source": [
    "#Построение финальной модели\n",
    "final_model = lgb.LGBMClassifier(\n",
    "    random_state=42,\n",
    "    n_estimators=300,\n",
    "    learning_rate=0.05,\n",
    "    num_leaves=31\n",
    ")\n",
    "final_model.fit(X_train_sel_over, y_train_over)\n",
    "\n",
    "y_train_pred_proba = final_model.predict_proba(X_train_sel_over)[:,1]\n",
    "y_val_pred_proba   = final_model.predict_proba(X_val_sel)[:,1]\n",
    "if len(X_test_sel) > 0:\n",
    "    y_test_pred_proba  = final_model.predict_proba(X_test_sel)[:,1]\n",
    "else:\n",
    "    y_test_pred_proba  = None"
   ]
  },
  {
   "cell_type": "code",
   "execution_count": 39,
   "metadata": {},
   "outputs": [
    {
     "name": "stdout",
     "output_type": "stream",
     "text": [
      "=== FINAL MODEL METRICS ===\n",
      "Train ROC-AUC: 0.9980\n",
      "Val   ROC-AUC: 0.6992\n",
      "Test  ROC-AUC: 0.6765\n",
      "\n",
      "Classification Report (Val):\n",
      "              precision    recall  f1-score   support\n",
      "\n",
      "           0       0.98      1.00      0.99     12780\n",
      "           1       0.08      0.02      0.03       246\n",
      "\n",
      "    accuracy                           0.98     13026\n",
      "   macro avg       0.53      0.51      0.51     13026\n",
      "weighted avg       0.96      0.98      0.97     13026\n",
      "\n",
      "\n",
      "Classification Report (Test):\n",
      "              precision    recall  f1-score   support\n",
      "\n",
      "           0       0.99      1.00      0.99     34521\n",
      "           1       0.03      0.01      0.02       350\n",
      "\n",
      "    accuracy                           0.99     34871\n",
      "   macro avg       0.51      0.50      0.50     34871\n",
      "weighted avg       0.98      0.99      0.98     34871\n",
      "\n"
     ]
    }
   ],
   "source": [
    "# Метрика ROC-AUC\n",
    "train_roc_auc = roc_auc_score(y_train_over, y_train_pred_proba)\n",
    "val_roc_auc   = roc_auc_score(y_val, y_val_pred_proba)\n",
    "test_roc_auc  = None\n",
    "if y_test_pred_proba is not None and len(y_test) > 0:\n",
    "    test_roc_auc = roc_auc_score(y_test, y_test_pred_proba)\n",
    "\n",
    "print(\"=== FINAL MODEL METRICS ===\")\n",
    "print(f\"Train ROC-AUC: {train_roc_auc:.4f}\")\n",
    "print(f\"Val   ROC-AUC: {val_roc_auc:.4f}\")\n",
    "if test_roc_auc is not None:\n",
    "    print(f\"Test  ROC-AUC: {test_roc_auc:.4f}\")\n",
    "\n",
    "# Classification Report (val)\n",
    "y_val_pred = (y_val_pred_proba >= 0.5).astype(int)\n",
    "print(\"\\nClassification Report (Val):\")\n",
    "print(classification_report(y_val, y_val_pred))\n",
    "\n",
    "if test_roc_auc is not None:\n",
    "    y_test_pred = (y_test_pred_proba >= 0.5).astype(int)\n",
    "    print(\"\\nClassification Report (Test):\")\n",
    "    print(classification_report(y_test, y_test_pred))\n"
   ]
  },
  {
   "cell_type": "code",
   "execution_count": null,
   "metadata": {},
   "outputs": [
    {
     "name": "stdout",
     "output_type": "stream",
     "text": [
      "Fitting 3 folds for each of 10 candidates, totalling 30 fits\n",
      "[LightGBM] [Info] Number of positive: 33972, number of negative: 34079\n",
      "[LightGBM] [Info] Number of positive: 33973, number of negative: 34079\n",
      "[LightGBM] [Info] Auto-choosing row-wise multi-threading, the overhead of testing was 0.003642 seconds.\n",
      "You can set `force_row_wise=true` to remove the overhead.\n",
      "And if memory is not enough, you can set `force_col_wise=true`.\n",
      "[LightGBM] [Info] Total Bins 7617\n",
      "[LightGBM] [Info] Number of positive: 33972, number of negative: 34079\n",
      "[LightGBM] [Info] Number of data points in the train set: 68051, number of used features: 30\n",
      "[LightGBM] [Info] Number of positive: 33973, number of negative: 34078\n",
      "[LightGBM] [Info] [binary:BoostFromScore]: pavg=0.499214 -> initscore=-0.003145\n",
      "[LightGBM] [Info] Start training from score -0.003145\n",
      "[LightGBM] [Info] Auto-choosing row-wise multi-threading, the overhead of testing was 0.005290 seconds.\n",
      "You can set `force_row_wise=true` to remove the overhead.\n",
      "And if memory is not enough, you can set `force_col_wise=true`.\n",
      "[LightGBM] [Info] Total Bins 7629\n",
      "[LightGBM] [Info] Number of data points in the train set: 68052, number of used features: 30\n",
      "[LightGBM] [Info] [binary:BoostFromScore]: pavg=0.499221 -> initscore=-0.003115\n",
      "[LightGBM] [Info] Start training from score -0.003115\n",
      "[LightGBM] [Info] Auto-choosing row-wise multi-threading, the overhead of testing was 0.001987 seconds.\n",
      "You can set `force_row_wise=true` to remove the overhead.\n",
      "And if memory is not enough, you can set `force_col_wise=true`.\n",
      "[LightGBM] [Info] Total Bins 7620\n",
      "[LightGBM] [Info] Number of data points in the train set: 68051, number of used features: 30\n",
      "[LightGBM] [Info] Auto-choosing row-wise multi-threading, the overhead of testing was 0.004072 seconds.\n",
      "You can set `force_row_wise=true` to remove the overhead.\n",
      "And if memory is not enough, you can set `force_col_wise=true`.\n",
      "[LightGBM] [Info] [binary:BoostFromScore]: pavg=0.499229 -> initscore=-0.003086\n",
      "[LightGBM] [Info] Total Bins 7617\n",
      "[LightGBM] [Info] Start training from score -0.003086\n",
      "[LightGBM] [Info] Number of data points in the train set: 68051, number of used features: 30\n",
      "[LightGBM] [Info] [binary:BoostFromScore]: pavg=0.499214 -> initscore=-0.003145\n",
      "[LightGBM] [Info] Start training from score -0.003145\n",
      "[LightGBM] [Info] Number of positive: 33973, number of negative: 34078\n",
      "[LightGBM] [Info] Auto-choosing row-wise multi-threading, the overhead of testing was 0.003674 seconds.\n",
      "You can set `force_row_wise=true` to remove the overhead.\n",
      "And if memory is not enough, you can set `force_col_wise=true`.\n",
      "[LightGBM] [Info] Total Bins 7620\n",
      "[LightGBM] [Info] Number of data points in the train set: 68051, number of used features: 30\n",
      "[LightGBM] [Info] [binary:BoostFromScore]: pavg=0.499229 -> initscore=-0.003086\n",
      "[LightGBM] [Info] Start training from score -0.003086\n",
      "[LightGBM] [Info] Number of positive: 33973, number of negative: 34079\n",
      "[LightGBM] [Info] Auto-choosing col-wise multi-threading, the overhead of testing was 0.004531 seconds.\n",
      "You can set `force_col_wise=true` to remove the overhead.\n",
      "[LightGBM] [Info] Total Bins 7629\n",
      "[LightGBM] [Info] Number of data points in the train set: 68052, number of used features: 30\n",
      "[LightGBM] [Info] [binary:BoostFromScore]: pavg=0.499221 -> initscore=-0.003115\n",
      "[LightGBM] [Info] Start training from score -0.003115\n",
      "[LightGBM] [Info] Number of positive: 33973, number of negative: 34078\n",
      "[LightGBM] [Info] Auto-choosing col-wise multi-threading, the overhead of testing was 0.018022 seconds.\n",
      "You can set `force_col_wise=true` to remove the overhead.\n",
      "[LightGBM] [Info] Total Bins 7620\n",
      "[LightGBM] [Info] Number of data points in the train set: 68051, number of used features: 30\n",
      "[LightGBM] [Info] [binary:BoostFromScore]: pavg=0.499229 -> initscore=-0.003086\n",
      "[LightGBM] [Info] Start training from score -0.003086\n",
      "[LightGBM] [Info] Number of positive: 33972, number of negative: 34079\n",
      "[LightGBM] [Info] Auto-choosing col-wise multi-threading, the overhead of testing was 0.013824 seconds.\n",
      "You can set `force_col_wise=true` to remove the overhead.\n",
      "[LightGBM] [Info] Total Bins 7617\n",
      "[LightGBM] [Info] Number of data points in the train set: 68051, number of used features: 30\n",
      "[LightGBM] [Info] [binary:BoostFromScore]: pavg=0.499214 -> initscore=-0.003145\n",
      "[LightGBM] [Info] Start training from score -0.003145\n",
      "[LightGBM] [Info] Number of positive: 33973, number of negative: 34079\n",
      "[LightGBM] [Info] Auto-choosing col-wise multi-threading, the overhead of testing was 0.012375 seconds.\n",
      "You can set `force_col_wise=true` to remove the overhead.\n",
      "[LightGBM] [Info] Total Bins 7629\n",
      "[LightGBM] [Info] Number of data points in the train set: 68052, number of used features: 30\n",
      "[LightGBM] [Info] [binary:BoostFromScore]: pavg=0.499221 -> initscore=-0.003115\n",
      "[LightGBM] [Info] Start training from score -0.003115\n",
      "[LightGBM] [Info] Number of positive: 33973, number of negative: 34078\n",
      "[LightGBM] [Info] Auto-choosing col-wise multi-threading, the overhead of testing was 0.005609 seconds.\n",
      "You can set `force_col_wise=true` to remove the overhead.\n",
      "[LightGBM] [Info] Total Bins 7620\n",
      "[LightGBM] [Info] Number of data points in the train set: 68051, number of used features: 30\n",
      "[LightGBM] [Info] [binary:BoostFromScore]: pavg=0.499229 -> initscore=-0.003086\n",
      "[LightGBM] [Info] Start training from score -0.003086\n",
      "[LightGBM] [Info] Number of positive: 33972, number of negative: 34079\n",
      "[LightGBM] [Info] Auto-choosing row-wise multi-threading, the overhead of testing was 0.007867 seconds.\n",
      "You can set `force_row_wise=true` to remove the overhead.\n",
      "And if memory is not enough, you can set `force_col_wise=true`.\n",
      "[LightGBM] [Info] Total Bins 7617\n",
      "[LightGBM] [Info] Number of data points in the train set: 68051, number of used features: 30\n",
      "[LightGBM] [Info] [binary:BoostFromScore]: pavg=0.499214 -> initscore=-0.003145\n",
      "[LightGBM] [Info] Start training from score -0.003145\n",
      "[LightGBM] [Info] Number of positive: 33973, number of negative: 34079\n",
      "[LightGBM] [Info] Auto-choosing col-wise multi-threading, the overhead of testing was 0.005061 seconds.\n",
      "You can set `force_col_wise=true` to remove the overhead.\n",
      "[LightGBM] [Info] Total Bins 7629\n",
      "[LightGBM] [Info] Number of data points in the train set: 68052, number of used features: 30\n",
      "[LightGBM] [Info] [binary:BoostFromScore]: pavg=0.499221 -> initscore=-0.003115\n",
      "[LightGBM] [Info] Start training from score -0.003115\n",
      "[LightGBM] [Info] Number of positive: 33973, number of negative: 34078\n",
      "[LightGBM] [Info] Auto-choosing col-wise multi-threading, the overhead of testing was 0.031533 seconds.\n",
      "You can set `force_col_wise=true` to remove the overhead.\n",
      "[LightGBM] [Info] Total Bins 7620\n",
      "[LightGBM] [Info] Number of data points in the train set: 68051, number of used features: 30\n",
      "[LightGBM] [Info] [binary:BoostFromScore]: pavg=0.499229 -> initscore=-0.003086\n",
      "[LightGBM] [Info] Start training from score -0.003086\n",
      "[LightGBM] [Info] Number of positive: 33972, number of negative: 34079\n",
      "[LightGBM] [Info] Auto-choosing col-wise multi-threading, the overhead of testing was 0.007589 seconds.\n",
      "You can set `force_col_wise=true` to remove the overhead.\n",
      "[LightGBM] [Info] Total Bins 7617\n",
      "[LightGBM] [Info] Number of data points in the train set: 68051, number of used features: 30\n",
      "[LightGBM] [Info] [binary:BoostFromScore]: pavg=0.499214 -> initscore=-0.003145\n",
      "[LightGBM] [Info] Start training from score -0.003145\n",
      "[LightGBM] [Info] Number of positive: 33973, number of negative: 34079\n",
      "[LightGBM] [Info] Auto-choosing row-wise multi-threading, the overhead of testing was 0.001748 seconds.\n",
      "You can set `force_row_wise=true` to remove the overhead.\n",
      "And if memory is not enough, you can set `force_col_wise=true`.\n",
      "[LightGBM] [Info] Total Bins 7629\n",
      "[LightGBM] [Info] Number of data points in the train set: 68052, number of used features: 30\n",
      "[LightGBM] [Info] [binary:BoostFromScore]: pavg=0.499221 -> initscore=-0.003115\n",
      "[LightGBM] [Info] Start training from score -0.003115\n",
      "[LightGBM] [Info] Number of positive: 33973, number of negative: 34078\n",
      "[LightGBM] [Info] Auto-choosing col-wise multi-threading, the overhead of testing was 0.004258 seconds.\n",
      "You can set `force_col_wise=true` to remove the overhead.\n",
      "[LightGBM] [Info] Total Bins 7620\n",
      "[LightGBM] [Info] Number of data points in the train set: 68051, number of used features: 30\n",
      "[LightGBM] [Info] [binary:BoostFromScore]: pavg=0.499229 -> initscore=-0.003086\n",
      "[LightGBM] [Info] Start training from score -0.003086\n",
      "[LightGBM] [Info] Number of positive: 33972, number of negative: 34079\n",
      "[LightGBM] [Info] Auto-choosing col-wise multi-threading, the overhead of testing was 0.014024 seconds.\n",
      "You can set `force_col_wise=true` to remove the overhead.\n",
      "[LightGBM] [Info] Total Bins 7617\n",
      "[LightGBM] [Info] Number of data points in the train set: 68051, number of used features: 30\n",
      "[LightGBM] [Info] [binary:BoostFromScore]: pavg=0.499214 -> initscore=-0.003145\n",
      "[LightGBM] [Info] Start training from score -0.003145\n",
      "[LightGBM] [Info] Number of positive: 33973, number of negative: 34079\n",
      "[LightGBM] [Info] Auto-choosing col-wise multi-threading, the overhead of testing was 0.005246 seconds.\n",
      "You can set `force_col_wise=true` to remove the overhead.\n",
      "[LightGBM] [Info] Total Bins 7629\n",
      "[LightGBM] [Info] Number of data points in the train set: 68052, number of used features: 30\n",
      "[LightGBM] [Info] [binary:BoostFromScore]: pavg=0.499221 -> initscore=-0.003115\n",
      "[LightGBM] [Info] Start training from score -0.003115\n",
      "[LightGBM] [Info] Number of positive: 33973, number of negative: 34078\n",
      "[LightGBM] [Info] Auto-choosing col-wise multi-threading, the overhead of testing was 0.007066 seconds.\n",
      "You can set `force_col_wise=true` to remove the overhead.\n",
      "[LightGBM] [Info] Total Bins 7620\n",
      "[LightGBM] [Info] Number of data points in the train set: 68051, number of used features: 30\n",
      "[LightGBM] [Info] [binary:BoostFromScore]: pavg=0.499229 -> initscore=-0.003086\n",
      "[LightGBM] [Info] Start training from score -0.003086\n",
      "[LightGBM] [Info] Number of positive: 33972, number of negative: 34079\n",
      "[LightGBM] [Info] Auto-choosing col-wise multi-threading, the overhead of testing was 0.010717 seconds.\n",
      "You can set `force_col_wise=true` to remove the overhead.\n",
      "[LightGBM] [Info] Total Bins 7617\n",
      "[LightGBM] [Info] Number of data points in the train set: 68051, number of used features: 30\n",
      "[LightGBM] [Info] [binary:BoostFromScore]: pavg=0.499214 -> initscore=-0.003145\n",
      "[LightGBM] [Info] Start training from score -0.003145\n",
      "[LightGBM] [Info] Number of positive: 33973, number of negative: 34079\n",
      "[LightGBM] [Info] Auto-choosing col-wise multi-threading, the overhead of testing was 0.004188 seconds.\n",
      "You can set `force_col_wise=true` to remove the overhead.\n",
      "[LightGBM] [Info] Total Bins 7629\n",
      "[LightGBM] [Info] Number of data points in the train set: 68052, number of used features: 30\n",
      "[LightGBM] [Info] [binary:BoostFromScore]: pavg=0.499221 -> initscore=-0.003115\n",
      "[LightGBM] [Info] Start training from score -0.003115\n",
      "[LightGBM] [Info] Number of positive: 33972, number of negative: 34079\n",
      "[LightGBM] [Info] Auto-choosing col-wise multi-threading, the overhead of testing was 0.010732 seconds.\n",
      "You can set `force_col_wise=true` to remove the overhead.\n",
      "[LightGBM] [Info] Total Bins 7617\n",
      "[LightGBM] [Info] Number of data points in the train set: 68051, number of used features: 30\n",
      "[LightGBM] [Info] [binary:BoostFromScore]: pavg=0.499214 -> initscore=-0.003145\n",
      "[LightGBM] [Info] Start training from score -0.003145\n",
      "[LightGBM] [Info] Number of positive: 33973, number of negative: 34078\n",
      "[LightGBM] [Info] Auto-choosing col-wise multi-threading, the overhead of testing was 0.008370 seconds.\n",
      "You can set `force_col_wise=true` to remove the overhead.\n",
      "[LightGBM] [Info] Total Bins 7620\n",
      "[LightGBM] [Info] Number of data points in the train set: 68051, number of used features: 30\n",
      "[LightGBM] [Info] [binary:BoostFromScore]: pavg=0.499229 -> initscore=-0.003086\n",
      "[LightGBM] [Info] Start training from score -0.003086\n",
      "[LightGBM] [Info] Number of positive: 33973, number of negative: 34079\n",
      "[LightGBM] [Info] Auto-choosing row-wise multi-threading, the overhead of testing was 0.004075 seconds.\n",
      "You can set `force_row_wise=true` to remove the overhead.\n",
      "And if memory is not enough, you can set `force_col_wise=true`.\n",
      "[LightGBM] [Info] Total Bins 7629\n",
      "[LightGBM] [Info] Number of data points in the train set: 68052, number of used features: 30\n",
      "[LightGBM] [Info] [binary:BoostFromScore]: pavg=0.499221 -> initscore=-0.003115\n",
      "[LightGBM] [Info] Start training from score -0.003115\n",
      "[LightGBM] [Info] Number of positive: 33973, number of negative: 34078\n",
      "[LightGBM] [Info] Auto-choosing col-wise multi-threading, the overhead of testing was 0.007688 seconds.\n",
      "You can set `force_col_wise=true` to remove the overhead.\n",
      "[LightGBM] [Info] Total Bins 7620\n",
      "[LightGBM] [Info] Number of data points in the train set: 68051, number of used features: 30\n",
      "[LightGBM] [Info] [binary:BoostFromScore]: pavg=0.499229 -> initscore=-0.003086\n",
      "[LightGBM] [Info] Start training from score -0.003086\n",
      "[LightGBM] [Info] Number of positive: 33972, number of negative: 34079\n",
      "[LightGBM] [Info] Auto-choosing col-wise multi-threading, the overhead of testing was 0.008820 seconds.\n",
      "You can set `force_col_wise=true` to remove the overhead.\n",
      "[LightGBM] [Info] Total Bins 7617\n",
      "[LightGBM] [Info] Number of data points in the train set: 68051, number of used features: 30\n",
      "[LightGBM] [Info] [binary:BoostFromScore]: pavg=0.499214 -> initscore=-0.003145\n",
      "[LightGBM] [Info] Start training from score -0.003145\n",
      "[LightGBM] [Info] Number of positive: 33973, number of negative: 34079\n",
      "[LightGBM] [Info] Auto-choosing col-wise multi-threading, the overhead of testing was 0.008999 seconds.\n",
      "You can set `force_col_wise=true` to remove the overhead.\n",
      "[LightGBM] [Info] Total Bins 7629\n",
      "[LightGBM] [Info] Number of data points in the train set: 68052, number of used features: 30\n",
      "[LightGBM] [Info] [binary:BoostFromScore]: pavg=0.499221 -> initscore=-0.003115\n",
      "[LightGBM] [Info] Start training from score -0.003115\n",
      "[LightGBM] [Info] Number of positive: 33973, number of negative: 34078\n",
      "[LightGBM] [Info] Auto-choosing col-wise multi-threading, the overhead of testing was 0.020012 seconds.\n",
      "You can set `force_col_wise=true` to remove the overhead.\n",
      "[LightGBM] [Info] Total Bins 7620\n",
      "[LightGBM] [Info] Number of data points in the train set: 68051, number of used features: 30\n",
      "[LightGBM] [Info] [binary:BoostFromScore]: pavg=0.499229 -> initscore=-0.003086\n",
      "[LightGBM] [Info] Start training from score -0.003086\n",
      "[LightGBM] [Info] Number of positive: 33972, number of negative: 34079\n",
      "[LightGBM] [Info] Auto-choosing col-wise multi-threading, the overhead of testing was 0.009436 seconds.\n",
      "You can set `force_col_wise=true` to remove the overhead.\n",
      "[LightGBM] [Info] Total Bins 7617\n",
      "[LightGBM] [Info] Number of data points in the train set: 68051, number of used features: 30\n",
      "[LightGBM] [Info] [binary:BoostFromScore]: pavg=0.499214 -> initscore=-0.003145\n",
      "[LightGBM] [Info] Start training from score -0.003145\n",
      "[LightGBM] [Info] Number of positive: 33973, number of negative: 34079\n",
      "[LightGBM] [Info] Auto-choosing col-wise multi-threading, the overhead of testing was 0.008860 seconds.\n",
      "You can set `force_col_wise=true` to remove the overhead.\n",
      "[LightGBM] [Info] Total Bins 7629\n",
      "[LightGBM] [Info] Number of data points in the train set: 68052, number of used features: 30\n",
      "[LightGBM] [Info] [binary:BoostFromScore]: pavg=0.499221 -> initscore=-0.003115\n",
      "[LightGBM] [Info] Start training from score -0.003115\n",
      "[LightGBM] [Info] Number of positive: 50959, number of negative: 51118\n",
      "[LightGBM] [Info] Auto-choosing row-wise multi-threading, the overhead of testing was 0.001394 seconds.\n",
      "You can set `force_row_wise=true` to remove the overhead.\n",
      "And if memory is not enough, you can set `force_col_wise=true`.\n",
      "[LightGBM] [Info] Total Bins 7617\n",
      "[LightGBM] [Info] Number of data points in the train set: 102077, number of used features: 30\n",
      "[LightGBM] [Info] [binary:BoostFromScore]: pavg=0.499221 -> initscore=-0.003115\n",
      "[LightGBM] [Info] Start training from score -0.003115\n",
      "\n",
      "Best Params: {'subsample': 0.8, 'scale_pos_weight': 10, 'reg_lambda': 1, 'reg_alpha': 5, 'num_leaves': 63, 'n_estimators': 500, 'min_child_samples': 10, 'learning_rate': 0.05, 'colsample_bytree': 1.0}\n",
      "Best CV Score (roc_auc): 0.9978773935670798\n",
      "[LightGBM] [Info] Number of positive: 50959, number of negative: 51118\n",
      "[LightGBM] [Info] Auto-choosing row-wise multi-threading, the overhead of testing was 0.001347 seconds.\n",
      "You can set `force_row_wise=true` to remove the overhead.\n",
      "And if memory is not enough, you can set `force_col_wise=true`.\n",
      "[LightGBM] [Info] Total Bins 7617\n",
      "[LightGBM] [Info] Number of data points in the train set: 102077, number of used features: 30\n",
      "[LightGBM] [Info] [binary:BoostFromScore]: pavg=0.499221 -> initscore=-0.003115\n",
      "[LightGBM] [Info] Start training from score -0.003115\n",
      "\n",
      "BEST MODEL VAL ROC-AUC: 0.6831\n"
     ]
    }
   ],
   "source": [
    "# Подбор гиперпараметров \n",
    "param_dist = {\n",
    "    'n_estimators': [200, 500, 1000],\n",
    "    'learning_rate': [0.01, 0.02, 0.05],\n",
    "    'num_leaves': [15, 31, 63],\n",
    "    'min_child_samples': [10, 20, 50, 100],\n",
    "    'scale_pos_weight': [1, 2, 5, 10], \n",
    "    'reg_alpha': [0, 1, 3, 5],\n",
    "    'reg_lambda': [0, 1, 3, 5],\n",
    "    'colsample_bytree': [0.6, 0.8, 1.0],\n",
    "    'subsample': [0.6, 0.8, 1.0]\n",
    "}\n",
    "\n",
    "\n",
    "base_model = lgb.LGBMClassifier(random_state=42)\n",
    "\n",
    "cv = StratifiedKFold(n_splits=3, shuffle=True, random_state=42)\n",
    "\n",
    "random_search = RandomizedSearchCV(\n",
    "    base_model,\n",
    "    param_distributions=param_dist,\n",
    "    n_iter=10,\n",
    "    scoring='roc_auc',\n",
    "    cv=cv,\n",
    "    verbose=1,\n",
    "    random_state=42,\n",
    "    n_jobs=-1\n",
    ")\n",
    "\n",
    "random_search.fit(X_train_sel_over, y_train_over)\n",
    "print(\"\\nBest Params:\", random_search.best_params_)\n",
    "print(\"Best CV Score (roc_auc):\", random_search.best_score_)\n",
    "\n",
    "best_model = lgb.LGBMClassifier(**random_search.best_params_, random_state=42)\n",
    "best_model.fit(X_train_sel_over, y_train_over)\n",
    "\n",
    "y_val_pred_proba_best = best_model.predict_proba(X_val_sel)[:,1]\n",
    "val_roc_auc_best = roc_auc_score(y_val, y_val_pred_proba_best)\n",
    "print(f\"\\nBEST MODEL VAL ROC-AUC: {val_roc_auc_best:.4f}\")\n"
   ]
  },
  {
   "cell_type": "markdown",
   "metadata": {},
   "source": [
    "## Построение графиков (15 баллов)\n",
    "\n",
    "Необходимо построить:\n",
    "\n",
    "* Roc auc curve\n",
    "\n",
    "* Precision recall curve\n",
    "\n",
    "* Heatmap для матрицы ошибок "
   ]
  },
  {
   "cell_type": "code",
   "execution_count": 44,
   "metadata": {},
   "outputs": [
    {
     "data": {
      "image/png": "[encoded data removed]",
      "text/plain": [
       "<Figure size 640x480 with 1 Axes>"
      ]
     },
     "metadata": {},
     "output_type": "display_data"
    },
    {
     "data": {
      "image/png": "[encoded data removed]",
      "text/plain": [
       "<Figure size 640x480 with 1 Axes>"
      ]
     },
     "metadata": {},
     "output_type": "display_data"
    },
    {
     "data": {
      "image/png": "[encoded data removed]",
      "text/plain": [
       "<Figure size 480x480 with 2 Axes>"
      ]
     },
     "metadata": {},
     "output_type": "display_data"
    }
   ],
   "source": [
    "# ROC\n",
    "RocCurveDisplay.from_predictions(y_val, y_val_pred_proba_best)\n",
    "plt.title(\"ROC Curve (Val) - Best Model\")\n",
    "plt.show()\n",
    "\n",
    "# Precision-Recall\n",
    "prec, rec, _ = precision_recall_curve(y_val, y_val_pred_proba_best)\n",
    "pr_auc = auc(rec, prec)\n",
    "disp = PrecisionRecallDisplay(precision=prec, recall=rec)\n",
    "disp.plot()\n",
    "plt.title(f\"Precision-Recall (Val) - AUC={pr_auc:.4f}\")\n",
    "plt.show()\n",
    "\n",
    "# Confusion Matrix\n",
    "y_val_pred_best = (y_val_pred_proba_best >= 0.5).astype(int)\n",
    "cm = confusion_matrix(y_val, y_val_pred_best)\n",
    "plt.matshow(cm, cmap='Blues')\n",
    "plt.title(\"Confusion Matrix (Val) - Best Model\")\n",
    "plt.colorbar()\n",
    "plt.xlabel(\"Predicted\")\n",
    "plt.ylabel(\"Actual\")\n",
    "for (i, j), val_ij in np.ndenumerate(cm):\n",
    "    plt.text(j, i, val_ij, ha='center', va='center', color='red')\n",
    "plt.show()\n"
   ]
  },
  {
   "cell_type": "markdown",
   "metadata": {},
   "source": [
    "## Выделите ключевые признаки (10 баллов)\n",
    "При помощи библиотеки shap выделите 5 самых важных признаков при построении модели"
   ]
  },
  {
   "cell_type": "code",
   "execution_count": 42,
   "metadata": {},
   "outputs": [
    {
     "name": "stderr",
     "output_type": "stream",
     "text": [
      "/Library/Frameworks/Python.framework/Versions/3.11/lib/python3.11/site-packages/shap/explainers/_tree.py:544: UserWarning: LightGBM binary classifier with TreeExplainer shap values output has changed to a list of ndarray\n",
      "  warnings.warn(\n"
     ]
    },
    {
     "data": {
      "image/png": "[encoded data removed]",
      "text/plain": [
       "<Figure size 800x350 with 1 Axes>"
      ]
     },
     "metadata": {},
     "output_type": "display_data"
    }
   ],
   "source": [
    "#SHAP (топ-5 признаков)\n",
    "explainer = shap.TreeExplainer(best_model)\n",
    "X_val_sample = X_val_sel.sample(min(200, len(X_val_sel)), random_state=42)\n",
    "\n",
    "shap_values = explainer.shap_values(X_val_sample)\n",
    "\n",
    "# Бар-чарт\n",
    "shap.summary_plot(shap_values, X_val_sample, plot_type=\"bar\", max_display=5)"
   ]
  }
 ],
 "metadata": {
  "kernelspec": {
   "display_name": "Python 3",
   "language": "python",
   "name": "python3"
  },
  "language_info": {
   "codemirror_mode": {
    "name": "ipython",
    "version": 3
   },
   "file_extension": ".py",
   "mimetype": "text/x-python",
   "name": "python",
   "nbconvert_exporter": "python",
   "pygments_lexer": "ipython3",
   "version": "3.11.2"
  }
 },
 "nbformat": 4,
 "nbformat_minor": 2
}
